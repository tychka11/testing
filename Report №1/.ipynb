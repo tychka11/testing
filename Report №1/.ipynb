{
 "cells": [
  {
   "cell_type": "markdown",
   "id": "3f3b27e5",
   "metadata": {},
   "source": [
    "### Моя перша програма"
   ]
  },
  {
   "cell_type": "code",
   "execution_count": 2,
   "id": "133c86da",
   "metadata": {},
   "outputs": [
    {
     "name": "stdout",
     "output_type": "stream",
     "text": [
      "Dmytro start programming at 2025-10-05 22:35:31.687129. Turka is the best city!\n"
     ]
    }
   ],
   "source": [
    "from datetime import datetime\n",
    "name = \"Dmytro\"\n",
    "location = \"Turka\"\n",
    "\n",
    "print(f\"{name} start programming at {datetime.now()}. {location} is the best city!\")"
   ]
  },
  {
   "cell_type": "markdown",
   "id": "93e79a6f",
   "metadata": {},
   "source": [
    "### Відповідь АІ на запит \"Твоя перша програма\""
   ]
  },
  {
   "cell_type": "code",
   "execution_count": 3,
   "id": "d68eb640",
   "metadata": {},
   "outputs": [
    {
     "name": "stdout",
     "output_type": "stream",
     "text": [
      "Сума: 9\n"
     ]
    }
   ],
   "source": [
    "a = int(input(\"Введіть перше число: \"))\n",
    "b = int(input(\"Введіть друге число: \"))\n",
    "print(f\"Сума: {a + b}\")"
   ]
  }
 ],
 "metadata": {
  "kernelspec": {
   "display_name": "Python 3",
   "language": "python",
   "name": "python3"
  },
  "language_info": {
   "codemirror_mode": {
    "name": "ipython",
    "version": 3
   },
   "file_extension": ".py",
   "mimetype": "text/x-python",
   "name": "python",
   "nbconvert_exporter": "python",
   "pygments_lexer": "ipython3",
   "version": "3.13.7"
  }
 },
 "nbformat": 4,
 "nbformat_minor": 5
}
